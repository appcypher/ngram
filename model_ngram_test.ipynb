{
 "cells": [
  {
   "cell_type": "code",
   "execution_count": 1,
   "metadata": {},
   "outputs": [],
   "source": [
    "from model_ngram import Model"
   ]
  },
  {
   "cell_type": "code",
   "execution_count": 2,
   "metadata": {},
   "outputs": [
    {
     "name": "stdout",
     "output_type": "stream",
     "text": [
      "Sample text> \n",
      "Watchmen takes place 34 years after the events of the comic series. In the comic's alternate history of the 20th century, vigilantes, once seen as heroes, were outlawed due to their violent methods. In 1985, Adrian Veidt, formerly known as the vigilante Ozymandias, created a fake attack on New York City by a squid-like alien that resulted in millions within New York being killed, coercing nations to work together against a common threat and to avert a nuclear holocaust. Veidt's actions disgusted his former companions, with Rorschach planning to tell the world of Veidt's misdeeds before he was vaporized by Doctor Manhattan, who subsequently left the planet. Unbeknownst to him, Rorschach had sent his journal to be published beforehand.\n",
      "\n",
      "The show takes place in 2019 Tulsa, Oklahoma. A white supremacist group, the Seventh Kavalry, inspired by Rorschach's writings and masked image, wage violent war against minorities and the police that enforce special reparations for victims of racial injustice. On Christmas Eve 2016, during an event that came to be known as the \"White Night\", the Kavalry attacked the homes of 40 police officers working for the Tulsa Police Department. Of those who survived, only two stayed with the force: Detective Angela Abar and Police Chief Judd Crawford. As the police force was rebuilt, laws were passed that required police to not disclose their profession and to protect their identities while on the job by wearing masks, which includes\n",
      "\n",
      "The principal cast for Watchmen includes (top row, left to right) Regina King, Don Johnson, Jean Smart, Yahya Abdul-Mateen II, (bottom row, left to right) Tim Blake Nelson, Hong Chau, Louis Gossett Jr., and Jeremy Irons. allowing for costumed police officers. As Crawford's police force attempts to crack down on the Seventh Kavalry, Abar finds herself at the center of two competing plots to kidnap Doctor Manhattan, who has been working with Hooded Justice, the original masked hero and survivor of the Tulsa massacre.\n",
      "\n",
      "Token Windows Frequency> {'watchmen*takes': {'place': 1}, 'takes*place': {'34': 1, 'in': 1}, 'place*34': {'years': 1}, '34*years': {'after': 1}, 'years*after': {'the': 1}, 'after*the': {'events': 1}, 'the*events': {'of': 1}, 'events*of': {'the': 1}, 'of*the': {'comic': 1, '20th': 1, 'tulsa': 1}, 'the*comic': {'series': 1, \"'\": 1}, 'comic*series': {'.': 1}, 'series*.': {'in': 1}, '.*in': {'the': 1, '1985': 1}, 'in*the': {'comic': 1}, \"comic*'\": {'s': 1}, \"'*s\": {'alternate': 1, 'actions': 1, 'misdeeds': 1, 'writings': 1, 'police': 1}, 's*alternate': {'history': 1}, 'alternate*history': {'of': 1}, 'history*of': {'the': 1}, 'the*20th': {'century': 1}, '20th*century': {',': 1}, 'century*,': {'vigilantes': 1}, ',*vigilantes': {',': 1}, 'vigilantes*,': {'once': 1}, ',*once': {'seen': 1}, 'once*seen': {'as': 1}, 'seen*as': {'heroes': 1}, 'as*heroes': {',': 1}, 'heroes*,': {'were': 1}, ',*were': {'outlawed': 1}, 'were*outlawed': {'due': 1}, 'outlawed*due': {'to': 1}, 'due*to': {'their': 1}, 'to*their': {'violent': 1}, 'their*violent': {'methods': 1}, 'violent*methods': {'.': 1}, 'methods*.': {'in': 1}, 'in*1985': {',': 1}, '1985*,': {'adrian': 1}, ',*adrian': {'veidt': 1}, 'adrian*veidt': {',': 1}, 'veidt*,': {'formerly': 1}, ',*formerly': {'known': 1}, 'formerly*known': {'as': 1}, 'known*as': {'the': 2}, 'as*the': {'vigilante': 1, 'white': 1, 'police': 1}, 'the*vigilante': {'ozymandias': 1}, 'vigilante*ozymandias': {',': 1}, 'ozymandias*,': {'created': 1}, ',*created': {'a': 1}, 'created*a': {'fake': 1}, 'a*fake': {'attack': 1}, 'fake*attack': {'on': 1}, 'attack*on': {'new': 1}, 'on*new': {'york': 1}, 'new*york': {'city': 1, 'being': 1}, 'york*city': {'by': 1}, 'city*by': {'a': 1}, 'by*a': {'squid': 1}, 'a*squid': {'like': 1}, 'squid*like': {'alien': 1}, 'like*alien': {'that': 1}, 'alien*that': {'resulted': 1}, 'that*resulted': {'in': 1}, 'resulted*in': {'millions': 1}, 'in*millions': {'within': 1}, 'millions*within': {'new': 1}, 'within*new': {'york': 1}, 'york*being': {'killed': 1}, 'being*killed': {',': 1}, 'killed*,': {'coercing': 1}, ',*coercing': {'nations': 1}, 'coercing*nations': {'to': 1}, 'nations*to': {'work': 1}, 'to*work': {'together': 1}, 'work*together': {'against': 1}, 'together*against': {'a': 1}, 'against*a': {'common': 1}, 'a*common': {'threat': 1}, 'common*threat': {'and': 1}, 'threat*and': {'to': 1}, 'and*to': {'avert': 1, 'protect': 1}, 'to*avert': {'a': 1}, 'avert*a': {'nuclear': 1}, 'a*nuclear': {'holocaust': 1}, 'nuclear*holocaust': {'.': 1}, 'holocaust*.': {'veidt': 1}, '.*veidt': {\"'\": 1}, \"veidt*'\": {'s': 2}, 's*actions': {'disgusted': 1}, 'actions*disgusted': {'his': 1}, 'disgusted*his': {'former': 1}, 'his*former': {'companions': 1}, 'former*companions': {',': 1}, 'companions*,': {'with': 1}, ',*with': {'rorschach': 1}, 'with*rorschach': {'planning': 1}, 'rorschach*planning': {'to': 1}, 'planning*to': {'tell': 1}, 'to*tell': {'the': 1}, 'tell*the': {'world': 1}, 'the*world': {'of': 1}, 'world*of': {'veidt': 1}, 'of*veidt': {\"'\": 1}, 's*misdeeds': {'before': 1}, 'misdeeds*before': {'he': 1}, 'before*he': {'was': 1}, 'he*was': {'vaporized': 1}, 'was*vaporized': {'by': 1}, 'vaporized*by': {'doctor': 1}, 'by*doctor': {'manhattan': 1}, 'doctor*manhattan': {',': 2}, 'manhattan*,': {'who': 2}, ',*who': {'subsequently': 1, 'has': 1}, 'who*subsequently': {'left': 1}, 'subsequently*left': {'the': 1}, 'left*the': {'planet': 1}, 'the*planet': {'.': 1}, 'planet*.': {'unbeknownst': 1}, '.*unbeknownst': {'to': 1}, 'unbeknownst*to': {'him': 1}, 'to*him': {',': 1}, 'him*,': {'rorschach': 1}, ',*rorschach': {'had': 1}, 'rorschach*had': {'sent': 1}, 'had*sent': {'his': 1}, 'sent*his': {'journal': 1}, 'his*journal': {'to': 1}, 'journal*to': {'be': 1}, 'to*be': {'published': 1, 'known': 1}, 'be*published': {'beforehand': 1}, 'published*beforehand': {'.': 1}, 'beforehand*.': {'the': 1}, '.*the': {'show': 1}, 'the*show': {'takes': 1}, 'show*takes': {'place': 1}, 'place*in': {'2019': 1}, 'in*2019': {'tulsa': 1}, '2019*tulsa': {',': 1}, 'tulsa*,': {'oklahoma': 1}, ',*oklahoma': {'.': 1}, 'oklahoma*.': {'a': 1}, '.*a': {'white': 1}, 'a*white': {'supremacist': 1}, 'white*supremacist': {'group': 1}, 'supremacist*group': {',': 1}, 'group*,': {'the': 1}, ',*the': {'seventh': 1, 'kavalry': 1, 'original': 1}, 'the*seventh': {'kavalry': 2}, 'seventh*kavalry': {',': 2}, 'kavalry*,': {'inspired': 1, 'abar': 1}, ',*inspired': {'by': 1}, 'inspired*by': {'rorschach': 1}, 'by*rorschach': {\"'\": 1}, \"rorschach*'\": {'s': 1}, 's*writings': {'and': 1}, 'writings*and': {'masked': 1}, 'and*masked': {'image': 1}, 'masked*image': {',': 1}, 'image*,': {'wage': 1}, ',*wage': {'violent': 1}, 'wage*violent': {'war': 1}, 'violent*war': {'against': 1}, 'war*against': {'minorities': 1}, 'against*minorities': {'and': 1}, 'minorities*and': {'the': 1}, 'and*the': {'police': 1}, 'the*police': {'that': 1, 'force': 1}, 'police*that': {'enforce': 1}, 'that*enforce': {'special': 1}, 'enforce*special': {'reparations': 1}, 'special*reparations': {'for': 1}, 'reparations*for': {'victims': 1}, 'for*victims': {'of': 1}, 'victims*of': {'racial': 1}, 'of*racial': {'injustice': 1}, 'racial*injustice': {'.': 1}, 'injustice*.': {'on': 1}, '.*on': {'christmas': 1}, 'on*christmas': {'eve': 1}, 'christmas*eve': {'2016': 1}, 'eve*2016': {',': 1}, '2016*,': {'during': 1}, ',*during': {'an': 1}, 'during*an': {'event': 1}, 'an*event': {'that': 1}, 'event*that': {'came': 1}, 'that*came': {'to': 1}, 'came*to': {'be': 1}, 'be*known': {'as': 1}, 'the*white': {'night': 1}, 'white*night': {',': 1}, 'night*,': {'the': 1}, 'the*kavalry': {'attacked': 1}, 'kavalry*attacked': {'the': 1}, 'attacked*the': {'homes': 1}, 'the*homes': {'of': 1}, 'homes*of': {'40': 1}, 'of*40': {'police': 1}, '40*police': {'officers': 1}, 'police*officers': {'working': 1, '.': 1}, 'officers*working': {'for': 1}, 'working*for': {'the': 1}, 'for*the': {'tulsa': 1}, 'the*tulsa': {'police': 1, 'massacre': 1}, 'tulsa*police': {'department': 1}, 'police*department': {'.': 1}, 'department*.': {'of': 1}, '.*of': {'those': 1}, 'of*those': {'who': 1}, 'those*who': {'survived': 1}, 'who*survived': {',': 1}, 'survived*,': {'only': 1}, ',*only': {'two': 1}, 'only*two': {'stayed': 1}, 'two*stayed': {'with': 1}, 'stayed*with': {'the': 1}, 'with*the': {'force': 1}, 'the*force': {'detective': 1}, 'force*detective': {'angela': 1}, 'detective*angela': {'abar': 1}, 'angela*abar': {'and': 1}, 'abar*and': {'police': 1}, 'and*police': {'chief': 1}, 'police*chief': {'judd': 1}, 'chief*judd': {'crawford': 1}, 'judd*crawford': {'.': 1}, 'crawford*.': {'as': 1}, '.*as': {'the': 1, 'crawford': 1}, 'police*force': {'was': 1, 'attempts': 1}, 'force*was': {'rebuilt': 1}, 'was*rebuilt': {',': 1}, 'rebuilt*,': {'laws': 1}, ',*laws': {'were': 1}, 'laws*were': {'passed': 1}, 'were*passed': {'that': 1}, 'passed*that': {'required': 1}, 'that*required': {'police': 1}, 'required*police': {'to': 1}, 'police*to': {'not': 1}, 'to*not': {'disclose': 1}, 'not*disclose': {'their': 1}, 'disclose*their': {'profession': 1}, 'their*profession': {'and': 1}, 'profession*and': {'to': 1}, 'to*protect': {'their': 1}, 'protect*their': {'identities': 1}, 'their*identities': {'while': 1}, 'identities*while': {'on': 1}, 'while*on': {'the': 1}, 'on*the': {'job': 1, 'seventh': 1}, 'the*job': {'by': 1}, 'job*by': {'wearing': 1}, 'by*wearing': {'masks': 1}, 'wearing*masks': {',': 1}, 'masks*,': {'which': 1}, ',*which': {'includes': 1}, 'which*includes': {'the': 1}, 'includes*the': {'principal': 1}, 'the*principal': {'cast': 1}, 'principal*cast': {'for': 1}, 'cast*for': {'watchmen': 1}, 'for*watchmen': {'includes': 1}, 'watchmen*includes': {'top': 1}, 'includes*top': {'row': 1}, 'top*row': {',': 1}, 'row*,': {'left': 2}, ',*left': {'to': 2}, 'left*to': {'right': 2}, 'to*right': {'regina': 1, 'tim': 1}, 'right*regina': {'king': 1}, 'regina*king': {',': 1}, 'king*,': {'don': 1}, ',*don': {'johnson': 1}, 'don*johnson': {',': 1}, 'johnson*,': {'jean': 1}, ',*jean': {'smart': 1}, 'jean*smart': {',': 1}, 'smart*,': {'yahya': 1}, ',*yahya': {'abdul': 1}, 'yahya*abdul': {'mateen': 1}, 'abdul*mateen': {'ii': 1}, 'mateen*ii': {',': 1}, 'ii*,': {'bottom': 1}, ',*bottom': {'row': 1}, 'bottom*row': {',': 1}, 'right*tim': {'blake': 1}, 'tim*blake': {'nelson': 1}, 'blake*nelson': {',': 1}, 'nelson*,': {'hong': 1}, ',*hong': {'chau': 1}, 'hong*chau': {',': 1}, 'chau*,': {'louis': 1}, ',*louis': {'gossett': 1}, 'louis*gossett': {'jr': 1}, 'gossett*jr': {'.': 1}, 'jr*.': {',': 1}, '.*,': {'and': 1}, ',*and': {'jeremy': 1}, 'and*jeremy': {'irons': 1}, 'jeremy*irons': {'.': 1}, 'irons*.': {'allowing': 1}, '.*allowing': {'for': 1}, 'allowing*for': {'costumed': 1}, 'for*costumed': {'police': 1}, 'costumed*police': {'officers': 1}, 'officers*.': {'as': 1}, 'as*crawford': {\"'\": 1}, \"crawford*'\": {'s': 1}, 's*police': {'force': 1}, 'force*attempts': {'to': 1}, 'attempts*to': {'crack': 1}, 'to*crack': {'down': 1}, 'crack*down': {'on': 1}, 'down*on': {'the': 1}, ',*abar': {'finds': 1}, 'abar*finds': {'herself': 1}, 'finds*herself': {'at': 1}, 'herself*at': {'the': 1}, 'at*the': {'center': 1}, 'the*center': {'of': 1}, 'center*of': {'two': 1}, 'of*two': {'competing': 1}, 'two*competing': {'plots': 1}, 'competing*plots': {'to': 1}, 'plots*to': {'kidnap': 1}, 'to*kidnap': {'doctor': 1}, 'kidnap*doctor': {'manhattan': 1}, 'who*has': {'been': 1}, 'has*been': {'working': 1}, 'been*working': {'with': 1}, 'working*with': {'hooded': 1}, 'with*hooded': {'justice': 1}, 'hooded*justice': {',': 1}, 'justice*,': {'the': 1}, 'the*original': {'masked': 1}, 'original*masked': {'hero': 1}, 'masked*hero': {'and': 1}, 'hero*and': {'survivor': 1}, 'and*survivor': {'of': 1}, 'survivor*of': {'the': 1}, 'tulsa*massacre': {'': 1}}\n",
      "\n",
      "------ Tests -------\n",
      "\n",
      "p('the tulsa')> [('police', 0.5), ('massacre', 0.5)]\n",
      "p('to right')> [('regina', 0.5), ('tim', 0.5)]\n",
      "p('left to')> [('right', 1.0)]\n"
     ]
    }
   ],
   "source": [
    "with open('./watchmen.txt') as f:\n",
    "    watchmen_text = f.read()\n",
    "\n",
    "    print(\"Sample text>\", watchmen_text)\n",
    "\n",
    "    model = Model(context_window=2)\n",
    "    model.train(watchmen_text)\n",
    "    \n",
    "    print('\\n------ Tests -------\\n')\n",
    "\n",
    "    result = model.test(\"the tulsa\")\n",
    "    print(\"p('the tulsa')>\", result)\n",
    "\n",
    "    result = model.test(\"to right\")\n",
    "    print(\"p('to right')>\", result)\n",
    "\n",
    "    result = model.test(\"left to\")\n",
    "    print(\"p('left to')>\", result)"
   ]
  }
 ],
 "metadata": {
  "kernelspec": {
   "display_name": "Python 3.8.2 64-bit",
   "language": "python",
   "name": "python382"
  },
  "language_info": {
   "codemirror_mode": {
    "name": "ipython",
    "version": 3
   },
   "file_extension": ".py",
   "mimetype": "text/x-python",
   "name": "python",
   "nbconvert_exporter": "python",
   "pygments_lexer": "ipython3",
   "version": "3.8.2"
  }
 },
 "nbformat": 4,
 "nbformat_minor": 4
}
